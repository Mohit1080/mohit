{
 "cells": [
  {
   "cell_type": "markdown",
   "id": "e31dfbb1",
   "metadata": {},
   "source": [
    "# 1.What are the two values of the Boolean data type? How do you write them?\n"
   ]
  },
  {
   "cell_type": "markdown",
   "id": "9d68c907",
   "metadata": {},
   "source": [
    "###### Answer\n",
    "True and False, these are the two boolean data type.\n",
    "this is use for getting a output When you want to check your conditon,then it return true and false"
   ]
  },
  {
   "cell_type": "code",
   "execution_count": 3,
   "id": "495b9712",
   "metadata": {},
   "outputs": [
    {
     "data": {
      "text/plain": [
       "True"
      ]
     },
     "execution_count": 3,
     "metadata": {},
     "output_type": "execute_result"
    }
   ],
   "source": [
    "#explain with code\n",
    "x=[2,4,5]\n",
    "5 in x"
   ]
  },
  {
   "cell_type": "code",
   "execution_count": null,
   "id": "404237ff",
   "metadata": {},
   "outputs": [],
   "source": [
    "x"
   ]
  }
 ],
 "metadata": {
  "kernelspec": {
   "display_name": "Python 3 (ipykernel)",
   "language": "python",
   "name": "python3"
  },
  "language_info": {
   "codemirror_mode": {
    "name": "ipython",
    "version": 3
   },
   "file_extension": ".py",
   "mimetype": "text/x-python",
   "name": "python",
   "nbconvert_exporter": "python",
   "pygments_lexer": "ipython3",
   "version": "3.9.12"
  }
 },
 "nbformat": 4,
 "nbformat_minor": 5
}
